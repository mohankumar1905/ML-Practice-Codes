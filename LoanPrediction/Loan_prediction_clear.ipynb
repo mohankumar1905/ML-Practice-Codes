{
 "cells": [
  {
   "cell_type": "code",
   "execution_count": 1,
   "metadata": {},
   "outputs": [
    {
     "name": "stderr",
     "output_type": "stream",
     "text": [
      "C:\\ProgramData\\Anaconda3\\lib\\site-packages\\sklearn\\cross_validation.py:41: DeprecationWarning: This module was deprecated in version 0.18 in favor of the model_selection module into which all the refactored classes and functions are moved. Also note that the interface of the new CV iterators are different from that of this module. This module will be removed in 0.20.\n",
      "  \"This module will be removed in 0.20.\", DeprecationWarning)\n"
     ]
    }
   ],
   "source": [
    "import warnings \n",
    "warnings.filterwarnings('ignore')\n",
    "import pandas as pd\n",
    "import numpy as np\n",
    "from matplotlib import pyplot as plt\n",
    "from sklearn.model_selection import train_test_split\n",
    "from sklearn.metrics import accuracy_score, confusion_matrix, classification_report\n",
    "from sklearn.cross_validation import cross_val_score\n",
    "import seaborn as sns"
   ]
  },
  {
   "cell_type": "code",
   "execution_count": 2,
   "metadata": {},
   "outputs": [],
   "source": [
    "df_train = pd.read_csv(\"train.csv\")"
   ]
  },
  {
   "cell_type": "code",
   "execution_count": 3,
   "metadata": {},
   "outputs": [],
   "source": [
    "df_train['Married'][df_train['Married'].isnull()] = 'No'\n",
    "df_train['Gender'][df_train['Gender'].isnull()] = df_train['Self_Employed'][df_train['Gender'].isnull()]\n",
    "df_train['Gender'][df_train['Gender']=='Yes'] = 'Male'\n",
    "df_train['Gender'][df_train['Gender']=='No'] = 'Female'\n",
    "df_train['Dependents'][df_train['Dependents'].isnull()] = '0'\n",
    "df_train['Self_Employed'][(df_train['Self_Employed'].isnull()) & (df_train['Education']=='Not Graduate')] = 'Yes'\n",
    "df_train['Self_Employed'][(df_train['Self_Employed'].isnull()) & (df_train['Gender']=='Female')] = 'No'\n",
    "df_train['Self_Employed'][(df_train['Self_Employed'].isnull()) & (df_train['ApplicantIncome']>5000)] = 'Yes'\n",
    "df_train['Self_Employed'][(df_train['Self_Employed'].isnull()) & (df_train['ApplicantIncome']<=5000)] = 'No'\n",
    "df_train['LoanAmount'][df_train['LoanAmount'].isnull()] = df_train['LoanAmount'].median()\n",
    "df_train['Loan_Amount_Term'][df_train['Loan_Amount_Term'].isnull()] = df_train['Loan_Amount_Term'].median()\n",
    "df_train['Credit_History'][df_train['Credit_History'].isnull()] = 1.0"
   ]
  },
  {
   "cell_type": "code",
   "execution_count": 4,
   "metadata": {},
   "outputs": [],
   "source": [
    "df_test = pd.read_csv(\"test.csv\")\n",
    "df_test1 = pd.read_csv(\"test.csv\")"
   ]
  },
  {
   "cell_type": "code",
   "execution_count": 5,
   "metadata": {},
   "outputs": [],
   "source": [
    "df_test['Married'][df_test['Married'].isnull()] = 'No'\n",
    "df_test['Gender'][df_test['Gender'].isnull()] = df_test['Self_Employed'][df_test['Gender'].isnull()]\n",
    "df_test['Gender'][df_test['Gender']=='Yes'] = 'Male'\n",
    "df_test['Gender'][df_test['Gender']=='No'] = 'Female'\n",
    "df_test['Dependents'][df_test['Dependents'].isnull()] = '0'\n",
    "df_test['Self_Employed'][(df_test['Self_Employed'].isnull()) & (df_test['Education']=='Not Graduate')] = 'Yes'\n",
    "df_test['Self_Employed'][(df_test['Self_Employed'].isnull()) & (df_test['Gender']=='Female')] = 'No'\n",
    "df_test['Self_Employed'][(df_test['Self_Employed'].isnull()) & (df_test['ApplicantIncome']>5000)] = 'Yes'\n",
    "df_test['Self_Employed'][(df_test['Self_Employed'].isnull()) & (df_test['ApplicantIncome']<=5000)] = 'No'\n",
    "df_test['LoanAmount'][df_test['LoanAmount'].isnull()] = df_test['LoanAmount'].median()\n",
    "df_test['Loan_Amount_Term'][df_test['Loan_Amount_Term'].isnull()] = df_test['Loan_Amount_Term'].median()\n",
    "df_test['Credit_History'][df_test['Credit_History'].isnull()] = 1.0"
   ]
  },
  {
   "cell_type": "code",
   "execution_count": 6,
   "metadata": {},
   "outputs": [
    {
     "data": {
      "text/html": [
       "<div>\n",
       "<style scoped>\n",
       "    .dataframe tbody tr th:only-of-type {\n",
       "        vertical-align: middle;\n",
       "    }\n",
       "\n",
       "    .dataframe tbody tr th {\n",
       "        vertical-align: top;\n",
       "    }\n",
       "\n",
       "    .dataframe thead th {\n",
       "        text-align: right;\n",
       "    }\n",
       "</style>\n",
       "<table border=\"1\" class=\"dataframe\">\n",
       "  <thead>\n",
       "    <tr style=\"text-align: right;\">\n",
       "      <th></th>\n",
       "      <th>Loan_ID</th>\n",
       "      <th>Gender</th>\n",
       "      <th>Married</th>\n",
       "      <th>Dependents</th>\n",
       "      <th>Education</th>\n",
       "      <th>Self_Employed</th>\n",
       "      <th>ApplicantIncome</th>\n",
       "      <th>CoapplicantIncome</th>\n",
       "      <th>LoanAmount</th>\n",
       "      <th>Loan_Amount_Term</th>\n",
       "      <th>Credit_History</th>\n",
       "      <th>Property_Area</th>\n",
       "      <th>Loan_Status</th>\n",
       "    </tr>\n",
       "  </thead>\n",
       "  <tbody>\n",
       "    <tr>\n",
       "      <th>0</th>\n",
       "      <td>LP001002</td>\n",
       "      <td>Male</td>\n",
       "      <td>No</td>\n",
       "      <td>0</td>\n",
       "      <td>Graduate</td>\n",
       "      <td>No</td>\n",
       "      <td>5849</td>\n",
       "      <td>0.0</td>\n",
       "      <td>128.0</td>\n",
       "      <td>360.0</td>\n",
       "      <td>1.0</td>\n",
       "      <td>Urban</td>\n",
       "      <td>Y</td>\n",
       "    </tr>\n",
       "    <tr>\n",
       "      <th>1</th>\n",
       "      <td>LP001003</td>\n",
       "      <td>Male</td>\n",
       "      <td>Yes</td>\n",
       "      <td>1</td>\n",
       "      <td>Graduate</td>\n",
       "      <td>No</td>\n",
       "      <td>4583</td>\n",
       "      <td>1508.0</td>\n",
       "      <td>128.0</td>\n",
       "      <td>360.0</td>\n",
       "      <td>1.0</td>\n",
       "      <td>Rural</td>\n",
       "      <td>N</td>\n",
       "    </tr>\n",
       "  </tbody>\n",
       "</table>\n",
       "</div>"
      ],
      "text/plain": [
       "    Loan_ID Gender Married Dependents Education Self_Employed  \\\n",
       "0  LP001002   Male      No          0  Graduate            No   \n",
       "1  LP001003   Male     Yes          1  Graduate            No   \n",
       "\n",
       "   ApplicantIncome  CoapplicantIncome  LoanAmount  Loan_Amount_Term  \\\n",
       "0             5849                0.0       128.0             360.0   \n",
       "1             4583             1508.0       128.0             360.0   \n",
       "\n",
       "   Credit_History Property_Area Loan_Status  \n",
       "0             1.0         Urban           Y  \n",
       "1             1.0         Rural           N  "
      ]
     },
     "execution_count": 6,
     "metadata": {},
     "output_type": "execute_result"
    }
   ],
   "source": [
    "df_train.head(2)"
   ]
  },
  {
   "cell_type": "code",
   "execution_count": 7,
   "metadata": {},
   "outputs": [
    {
     "data": {
      "text/plain": [
       "{'boxes': [<matplotlib.lines.Line2D at 0xb5ead30>],\n",
       " 'caps': [<matplotlib.lines.Line2D at 0xb5f9780>,\n",
       "  <matplotlib.lines.Line2D at 0xb5f9ba8>],\n",
       " 'fliers': [<matplotlib.lines.Line2D at 0xb607438>],\n",
       " 'means': [],\n",
       " 'medians': [<matplotlib.lines.Line2D at 0xb5f9fd0>],\n",
       " 'whiskers': [<matplotlib.lines.Line2D at 0xb5eae80>,\n",
       "  <matplotlib.lines.Line2D at 0xb5f9358>]}"
      ]
     },
     "execution_count": 7,
     "metadata": {},
     "output_type": "execute_result"
    },
    {
     "data": {
      "image/png": "[encoded data removed]",
      "text/plain": [
       "<matplotlib.figure.Figure at 0xb6fc710>"
      ]
     },
     "metadata": {},
     "output_type": "display_data"
    }
   ],
   "source": [
    "plt.boxplot(df_train['CoapplicantIncome'])"
   ]
  },
  {
   "cell_type": "code",
   "execution_count": 8,
   "metadata": {},
   "outputs": [],
   "source": [
    "df_train = df_train[df_train['CoapplicantIncome']<6000]"
   ]
  },
  {
   "cell_type": "code",
   "execution_count": 9,
   "metadata": {},
   "outputs": [],
   "source": [
    "df_train_y = df_train['Loan_Status']\n",
    "#del df_train['Loan_Status']\n",
    "del df_train['Loan_ID']\n",
    "df_train_x = df_train\n",
    "del df_test['Loan_ID']"
   ]
  },
  {
   "cell_type": "code",
   "execution_count": 10,
   "metadata": {},
   "outputs": [
    {
     "data": {
      "text/plain": [
       "(367, 11)"
      ]
     },
     "execution_count": 10,
     "metadata": {},
     "output_type": "execute_result"
    }
   ],
   "source": [
    "df_test.shape"
   ]
  },
  {
   "cell_type": "code",
   "execution_count": 11,
   "metadata": {},
   "outputs": [
    {
     "data": {
      "text/plain": [
       "(596, 12)"
      ]
     },
     "execution_count": 11,
     "metadata": {},
     "output_type": "execute_result"
    }
   ],
   "source": [
    "df_train.shape"
   ]
  },
  {
   "cell_type": "code",
   "execution_count": 12,
   "metadata": {},
   "outputs": [],
   "source": [
    "df_train = pd.get_dummies(df_train)\n",
    "df_test = pd.get_dummies(df_test)"
   ]
  },
  {
   "cell_type": "code",
   "execution_count": 13,
   "metadata": {},
   "outputs": [],
   "source": [
    "from sklearn.preprocessing import LabelEncoder\n",
    "label_encoder = LabelEncoder()\n",
    "df_train_y=label_encoder.fit_transform(df_train_y)"
   ]
  },
  {
   "cell_type": "code",
   "execution_count": 14,
   "metadata": {},
   "outputs": [],
   "source": [
    "pd.set_option('display.expand_frame_repr', False)"
   ]
  },
  {
   "cell_type": "code",
   "execution_count": 15,
   "metadata": {
    "scrolled": true
   },
   "outputs": [
    {
     "data": {
      "text/plain": [
       "ApplicantIncome           -0.009879\n",
       "CoapplicantIncome          0.040034\n",
       "LoanAmount                -0.024113\n",
       "Loan_Amount_Term          -0.029777\n",
       "Credit_History             0.552458\n",
       "Gender_Female             -0.038721\n",
       "Gender_Male                0.038721\n",
       "Married_No                -0.090067\n",
       "Married_Yes                0.090067\n",
       "Dependents_0              -0.017201\n",
       "Dependents_1              -0.033533\n",
       "Dependents_2               0.058506\n",
       "Dependents_3+             -0.002419\n",
       "Education_Graduate         0.095428\n",
       "Education_Not Graduate    -0.095428\n",
       "Self_Employed_No          -0.004048\n",
       "Self_Employed_Yes          0.004048\n",
       "Property_Area_Rural       -0.119410\n",
       "Property_Area_Semiurban    0.148006\n",
       "Property_Area_Urban       -0.037147\n",
       "Loan_Status_N             -1.000000\n",
       "Loan_Status_Y              1.000000\n",
       "Name: Loan_Status_Y, dtype: float64"
      ]
     },
     "execution_count": 15,
     "metadata": {},
     "output_type": "execute_result"
    }
   ],
   "source": [
    "df_train.corr(method=\"pearson\")['Loan_Status_Y']"
   ]
  },
  {
   "cell_type": "code",
   "execution_count": 16,
   "metadata": {},
   "outputs": [
    {
     "data": {
      "text/plain": [
       "(596, 22)"
      ]
     },
     "execution_count": 16,
     "metadata": {},
     "output_type": "execute_result"
    }
   ],
   "source": [
    "df_train.shape"
   ]
  },
  {
   "cell_type": "code",
   "execution_count": 17,
   "metadata": {},
   "outputs": [],
   "source": [
    "del df_train['ApplicantIncome']\n",
    "del df_train['Gender_Female']\n",
    "del df_train['Married_No']\n",
    "del df_train['Loan_Status_N']\n",
    "del df_train['Self_Employed_Yes']\n",
    "del df_train['Self_Employed_No']\n",
    "del df_train['Dependents_0']"
   ]
  },
  {
   "cell_type": "code",
   "execution_count": 18,
   "metadata": {},
   "outputs": [],
   "source": [
    "del df_train['Loan_Status_Y']\n",
    "del df_test['ApplicantIncome']\n",
    "del df_test['Gender_Female']\n",
    "del df_test['Married_No']\n",
    "del df_test['Self_Employed_Yes']\n",
    "del df_test['Self_Employed_No']\n",
    "del df_test['Dependents_0']"
   ]
  },
  {
   "cell_type": "code",
   "execution_count": 19,
   "metadata": {},
   "outputs": [
    {
     "data": {
      "text/html": [
       "<div>\n",
       "<style scoped>\n",
       "    .dataframe tbody tr th:only-of-type {\n",
       "        vertical-align: middle;\n",
       "    }\n",
       "\n",
       "    .dataframe tbody tr th {\n",
       "        vertical-align: top;\n",
       "    }\n",
       "\n",
       "    .dataframe thead th {\n",
       "        text-align: right;\n",
       "    }\n",
       "</style>\n",
       "<table border=\"1\" class=\"dataframe\">\n",
       "  <thead>\n",
       "    <tr style=\"text-align: right;\">\n",
       "      <th></th>\n",
       "      <th>CoapplicantIncome</th>\n",
       "      <th>LoanAmount</th>\n",
       "      <th>Loan_Amount_Term</th>\n",
       "      <th>Credit_History</th>\n",
       "      <th>Gender_Male</th>\n",
       "      <th>Married_Yes</th>\n",
       "      <th>Dependents_1</th>\n",
       "      <th>Dependents_2</th>\n",
       "      <th>Dependents_3+</th>\n",
       "      <th>Education_Graduate</th>\n",
       "      <th>Education_Not Graduate</th>\n",
       "      <th>Property_Area_Rural</th>\n",
       "      <th>Property_Area_Semiurban</th>\n",
       "      <th>Property_Area_Urban</th>\n",
       "    </tr>\n",
       "  </thead>\n",
       "  <tbody>\n",
       "    <tr>\n",
       "      <th>CoapplicantIncome</th>\n",
       "      <td>1.000000</td>\n",
       "      <td>0.114825</td>\n",
       "      <td>-0.006265</td>\n",
       "      <td>0.003731</td>\n",
       "      <td>0.207247</td>\n",
       "      <td>0.246282</td>\n",
       "      <td>-0.023048</td>\n",
       "      <td>0.006913</td>\n",
       "      <td>-0.081712</td>\n",
       "      <td>0.020689</td>\n",
       "      <td>-0.020689</td>\n",
       "      <td>0.099216</td>\n",
       "      <td>-0.023482</td>\n",
       "      <td>-0.072023</td>\n",
       "    </tr>\n",
       "    <tr>\n",
       "      <th>LoanAmount</th>\n",
       "      <td>0.114825</td>\n",
       "      <td>1.000000</td>\n",
       "      <td>0.049514</td>\n",
       "      <td>0.004119</td>\n",
       "      <td>0.069588</td>\n",
       "      <td>0.132257</td>\n",
       "      <td>0.065616</td>\n",
       "      <td>0.000100</td>\n",
       "      <td>0.127248</td>\n",
       "      <td>0.165663</td>\n",
       "      <td>-0.165663</td>\n",
       "      <td>0.045365</td>\n",
       "      <td>-0.003161</td>\n",
       "      <td>-0.040765</td>\n",
       "    </tr>\n",
       "    <tr>\n",
       "      <th>Loan_Amount_Term</th>\n",
       "      <td>-0.006265</td>\n",
       "      <td>0.049514</td>\n",
       "      <td>1.000000</td>\n",
       "      <td>0.002740</td>\n",
       "      <td>-0.085272</td>\n",
       "      <td>-0.105004</td>\n",
       "      <td>-0.086469</td>\n",
       "      <td>-0.015692</td>\n",
       "      <td>-0.071376</td>\n",
       "      <td>0.070362</td>\n",
       "      <td>-0.070362</td>\n",
       "      <td>0.032435</td>\n",
       "      <td>0.066833</td>\n",
       "      <td>-0.100597</td>\n",
       "    </tr>\n",
       "    <tr>\n",
       "      <th>Credit_History</th>\n",
       "      <td>0.003731</td>\n",
       "      <td>0.004119</td>\n",
       "      <td>0.002740</td>\n",
       "      <td>1.000000</td>\n",
       "      <td>0.021845</td>\n",
       "      <td>0.005529</td>\n",
       "      <td>0.016489</td>\n",
       "      <td>-0.000043</td>\n",
       "      <td>-0.053936</td>\n",
       "      <td>0.078084</td>\n",
       "      <td>-0.078084</td>\n",
       "      <td>-0.028815</td>\n",
       "      <td>0.045376</td>\n",
       "      <td>-0.018954</td>\n",
       "    </tr>\n",
       "    <tr>\n",
       "      <th>Gender_Male</th>\n",
       "      <td>0.207247</td>\n",
       "      <td>0.069588</td>\n",
       "      <td>-0.085272</td>\n",
       "      <td>0.021845</td>\n",
       "      <td>1.000000</td>\n",
       "      <td>0.341166</td>\n",
       "      <td>0.008647</td>\n",
       "      <td>0.117883</td>\n",
       "      <td>0.086127</td>\n",
       "      <td>-0.056003</td>\n",
       "      <td>0.056003</td>\n",
       "      <td>0.073189</td>\n",
       "      <td>-0.111387</td>\n",
       "      <td>0.044144</td>\n",
       "    </tr>\n",
       "    <tr>\n",
       "      <th>Married_Yes</th>\n",
       "      <td>0.246282</td>\n",
       "      <td>0.132257</td>\n",
       "      <td>-0.105004</td>\n",
       "      <td>0.005529</td>\n",
       "      <td>0.341166</td>\n",
       "      <td>1.000000</td>\n",
       "      <td>0.113584</td>\n",
       "      <td>0.250360</td>\n",
       "      <td>0.141740</td>\n",
       "      <td>-0.017575</td>\n",
       "      <td>0.017575</td>\n",
       "      <td>-0.008053</td>\n",
       "      <td>0.000073</td>\n",
       "      <td>0.007741</td>\n",
       "    </tr>\n",
       "    <tr>\n",
       "      <th>Dependents_1</th>\n",
       "      <td>-0.023048</td>\n",
       "      <td>0.065616</td>\n",
       "      <td>-0.086469</td>\n",
       "      <td>0.016489</td>\n",
       "      <td>0.008647</td>\n",
       "      <td>0.113584</td>\n",
       "      <td>1.000000</td>\n",
       "      <td>-0.196777</td>\n",
       "      <td>-0.132090</td>\n",
       "      <td>0.022654</td>\n",
       "      <td>-0.022654</td>\n",
       "      <td>-0.079873</td>\n",
       "      <td>0.004272</td>\n",
       "      <td>0.073113</td>\n",
       "    </tr>\n",
       "    <tr>\n",
       "      <th>Dependents_2</th>\n",
       "      <td>0.006913</td>\n",
       "      <td>0.000100</td>\n",
       "      <td>-0.015692</td>\n",
       "      <td>-0.000043</td>\n",
       "      <td>0.117883</td>\n",
       "      <td>0.250360</td>\n",
       "      <td>-0.196777</td>\n",
       "      <td>1.000000</td>\n",
       "      <td>-0.130487</td>\n",
       "      <td>-0.025698</td>\n",
       "      <td>0.025698</td>\n",
       "      <td>-0.014786</td>\n",
       "      <td>0.002043</td>\n",
       "      <td>0.012240</td>\n",
       "    </tr>\n",
       "    <tr>\n",
       "      <th>Dependents_3+</th>\n",
       "      <td>-0.081712</td>\n",
       "      <td>0.127248</td>\n",
       "      <td>-0.071376</td>\n",
       "      <td>-0.053936</td>\n",
       "      <td>0.086127</td>\n",
       "      <td>0.141740</td>\n",
       "      <td>-0.132090</td>\n",
       "      <td>-0.130487</td>\n",
       "      <td>1.000000</td>\n",
       "      <td>-0.063509</td>\n",
       "      <td>0.063509</td>\n",
       "      <td>0.052883</td>\n",
       "      <td>-0.002559</td>\n",
       "      <td>-0.048685</td>\n",
       "    </tr>\n",
       "    <tr>\n",
       "      <th>Education_Graduate</th>\n",
       "      <td>0.020689</td>\n",
       "      <td>0.165663</td>\n",
       "      <td>0.070362</td>\n",
       "      <td>0.078084</td>\n",
       "      <td>-0.056003</td>\n",
       "      <td>-0.017575</td>\n",
       "      <td>0.022654</td>\n",
       "      <td>-0.025698</td>\n",
       "      <td>-0.063509</td>\n",
       "      <td>1.000000</td>\n",
       "      <td>-1.000000</td>\n",
       "      <td>-0.079176</td>\n",
       "      <td>0.045124</td>\n",
       "      <td>0.030191</td>\n",
       "    </tr>\n",
       "    <tr>\n",
       "      <th>Education_Not Graduate</th>\n",
       "      <td>-0.020689</td>\n",
       "      <td>-0.165663</td>\n",
       "      <td>-0.070362</td>\n",
       "      <td>-0.078084</td>\n",
       "      <td>0.056003</td>\n",
       "      <td>0.017575</td>\n",
       "      <td>-0.022654</td>\n",
       "      <td>0.025698</td>\n",
       "      <td>0.063509</td>\n",
       "      <td>-1.000000</td>\n",
       "      <td>1.000000</td>\n",
       "      <td>0.079176</td>\n",
       "      <td>-0.045124</td>\n",
       "      <td>-0.030191</td>\n",
       "    </tr>\n",
       "    <tr>\n",
       "      <th>Property_Area_Rural</th>\n",
       "      <td>0.099216</td>\n",
       "      <td>0.045365</td>\n",
       "      <td>0.032435</td>\n",
       "      <td>-0.028815</td>\n",
       "      <td>0.073189</td>\n",
       "      <td>-0.008053</td>\n",
       "      <td>-0.079873</td>\n",
       "      <td>-0.014786</td>\n",
       "      <td>0.052883</td>\n",
       "      <td>-0.079176</td>\n",
       "      <td>0.079176</td>\n",
       "      <td>1.000000</td>\n",
       "      <td>-0.503885</td>\n",
       "      <td>-0.449597</td>\n",
       "    </tr>\n",
       "    <tr>\n",
       "      <th>Property_Area_Semiurban</th>\n",
       "      <td>-0.023482</td>\n",
       "      <td>-0.003161</td>\n",
       "      <td>0.066833</td>\n",
       "      <td>0.045376</td>\n",
       "      <td>-0.111387</td>\n",
       "      <td>0.000073</td>\n",
       "      <td>0.004272</td>\n",
       "      <td>0.002043</td>\n",
       "      <td>-0.002559</td>\n",
       "      <td>0.045124</td>\n",
       "      <td>-0.045124</td>\n",
       "      <td>-0.503885</td>\n",
       "      <td>1.000000</td>\n",
       "      <td>-0.545002</td>\n",
       "    </tr>\n",
       "    <tr>\n",
       "      <th>Property_Area_Urban</th>\n",
       "      <td>-0.072023</td>\n",
       "      <td>-0.040765</td>\n",
       "      <td>-0.100597</td>\n",
       "      <td>-0.018954</td>\n",
       "      <td>0.044144</td>\n",
       "      <td>0.007741</td>\n",
       "      <td>0.073113</td>\n",
       "      <td>0.012240</td>\n",
       "      <td>-0.048685</td>\n",
       "      <td>0.030191</td>\n",
       "      <td>-0.030191</td>\n",
       "      <td>-0.449597</td>\n",
       "      <td>-0.545002</td>\n",
       "      <td>1.000000</td>\n",
       "    </tr>\n",
       "  </tbody>\n",
       "</table>\n",
       "</div>"
      ],
      "text/plain": [
       "                         CoapplicantIncome  LoanAmount  Loan_Amount_Term  Credit_History  Gender_Male  Married_Yes  Dependents_1  Dependents_2  Dependents_3+  Education_Graduate  Education_Not Graduate  Property_Area_Rural  Property_Area_Semiurban  Property_Area_Urban\n",
       "CoapplicantIncome                 1.000000    0.114825         -0.006265        0.003731     0.207247     0.246282     -0.023048      0.006913      -0.081712            0.020689               -0.020689             0.099216                -0.023482            -0.072023\n",
       "LoanAmount                        0.114825    1.000000          0.049514        0.004119     0.069588     0.132257      0.065616      0.000100       0.127248            0.165663               -0.165663             0.045365                -0.003161            -0.040765\n",
       "Loan_Amount_Term                 -0.006265    0.049514          1.000000        0.002740    -0.085272    -0.105004     -0.086469     -0.015692      -0.071376            0.070362               -0.070362             0.032435                 0.066833            -0.100597\n",
       "Credit_History                    0.003731    0.004119          0.002740        1.000000     0.021845     0.005529      0.016489     -0.000043      -0.053936            0.078084               -0.078084            -0.028815                 0.045376            -0.018954\n",
       "Gender_Male                       0.207247    0.069588         -0.085272        0.021845     1.000000     0.341166      0.008647      0.117883       0.086127           -0.056003                0.056003             0.073189                -0.111387             0.044144\n",
       "Married_Yes                       0.246282    0.132257         -0.105004        0.005529     0.341166     1.000000      0.113584      0.250360       0.141740           -0.017575                0.017575            -0.008053                 0.000073             0.007741\n",
       "Dependents_1                     -0.023048    0.065616         -0.086469        0.016489     0.008647     0.113584      1.000000     -0.196777      -0.132090            0.022654               -0.022654            -0.079873                 0.004272             0.073113\n",
       "Dependents_2                      0.006913    0.000100         -0.015692       -0.000043     0.117883     0.250360     -0.196777      1.000000      -0.130487           -0.025698                0.025698            -0.014786                 0.002043             0.012240\n",
       "Dependents_3+                    -0.081712    0.127248         -0.071376       -0.053936     0.086127     0.141740     -0.132090     -0.130487       1.000000           -0.063509                0.063509             0.052883                -0.002559            -0.048685\n",
       "Education_Graduate                0.020689    0.165663          0.070362        0.078084    -0.056003    -0.017575      0.022654     -0.025698      -0.063509            1.000000               -1.000000            -0.079176                 0.045124             0.030191\n",
       "Education_Not Graduate           -0.020689   -0.165663         -0.070362       -0.078084     0.056003     0.017575     -0.022654      0.025698       0.063509           -1.000000                1.000000             0.079176                -0.045124            -0.030191\n",
       "Property_Area_Rural               0.099216    0.045365          0.032435       -0.028815     0.073189    -0.008053     -0.079873     -0.014786       0.052883           -0.079176                0.079176             1.000000                -0.503885            -0.449597\n",
       "Property_Area_Semiurban          -0.023482   -0.003161          0.066833        0.045376    -0.111387     0.000073      0.004272      0.002043      -0.002559            0.045124               -0.045124            -0.503885                 1.000000            -0.545002\n",
       "Property_Area_Urban              -0.072023   -0.040765         -0.100597       -0.018954     0.044144     0.007741      0.073113      0.012240      -0.048685            0.030191               -0.030191            -0.449597                -0.545002             1.000000"
      ]
     },
     "execution_count": 19,
     "metadata": {},
     "output_type": "execute_result"
    }
   ],
   "source": [
    "df_train.corr(method=\"pearson\")"
   ]
  },
  {
   "cell_type": "code",
   "execution_count": 20,
   "metadata": {},
   "outputs": [
    {
     "data": {
      "text/plain": [
       "Index(['CoapplicantIncome', 'LoanAmount', 'Loan_Amount_Term', 'Credit_History',\n",
       "       'Gender_Male', 'Married_Yes', 'Dependents_1', 'Dependents_2',\n",
       "       'Dependents_3+', 'Education_Graduate', 'Education_Not Graduate',\n",
       "       'Property_Area_Rural', 'Property_Area_Semiurban',\n",
       "       'Property_Area_Urban'],\n",
       "      dtype='object')"
      ]
     },
     "execution_count": 20,
     "metadata": {},
     "output_type": "execute_result"
    }
   ],
   "source": [
    "df_train.columns"
   ]
  },
  {
   "cell_type": "code",
   "execution_count": 21,
   "metadata": {},
   "outputs": [],
   "source": [
    "X_train,X_test,Y_train,Y_test = train_test_split(df_train,df_train_y,test_size=0.25,random_state=1)"
   ]
  },
  {
   "cell_type": "code",
   "execution_count": 22,
   "metadata": {},
   "outputs": [],
   "source": [
    "from sklearn.ensemble import RandomForestClassifier\n",
    "rfc = RandomForestClassifier(max_depth = 6,n_estimators=300)"
   ]
  },
  {
   "cell_type": "code",
   "execution_count": 23,
   "metadata": {},
   "outputs": [
    {
     "data": {
      "text/plain": [
       "RandomForestClassifier(bootstrap=True, class_weight=None, criterion='gini',\n",
       "            max_depth=6, max_features='auto', max_leaf_nodes=None,\n",
       "            min_impurity_decrease=0.0, min_impurity_split=None,\n",
       "            min_samples_leaf=1, min_samples_split=2,\n",
       "            min_weight_fraction_leaf=0.0, n_estimators=300, n_jobs=1,\n",
       "            oob_score=False, random_state=None, verbose=0,\n",
       "            warm_start=False)"
      ]
     },
     "execution_count": 23,
     "metadata": {},
     "output_type": "execute_result"
    }
   ],
   "source": [
    "rfc.fit(X_train,Y_train)"
   ]
  },
  {
   "cell_type": "code",
   "execution_count": 24,
   "metadata": {},
   "outputs": [
    {
     "data": {
      "text/plain": [
       "0.8187919463087249"
      ]
     },
     "execution_count": 24,
     "metadata": {},
     "output_type": "execute_result"
    }
   ],
   "source": [
    "rfc.score(X_test,Y_test)"
   ]
  },
  {
   "cell_type": "code",
   "execution_count": 25,
   "metadata": {},
   "outputs": [
    {
     "data": {
      "text/plain": [
       "0.8105445957210335"
      ]
     },
     "execution_count": 25,
     "metadata": {},
     "output_type": "execute_result"
    }
   ],
   "source": [
    "cross_val_score(rfc,df_train,df_train_y,cv=10).mean()"
   ]
  },
  {
   "cell_type": "code",
   "execution_count": 26,
   "metadata": {},
   "outputs": [],
   "source": [
    "rfc_y_pred = rfc.predict(df_test)"
   ]
  },
  {
   "cell_type": "code",
   "execution_count": 27,
   "metadata": {},
   "outputs": [
    {
     "name": "stdout",
     "output_type": "stream",
     "text": [
      "0.8389261744966443\n",
      "[[ 20  23]\n",
      " [  1 105]]\n",
      "             precision    recall  f1-score   support\n",
      "\n",
      "          0       0.95      0.47      0.62        43\n",
      "          1       0.82      0.99      0.90       106\n",
      "\n",
      "avg / total       0.86      0.84      0.82       149\n",
      "\n"
     ]
    }
   ],
   "source": [
    "from sklearn.ensemble import RandomForestClassifier\n",
    "rfc_model = RandomForestClassifier(n_estimators=20,max_depth =3)\n",
    "rfc_model.fit(X_train,Y_train)\n",
    "rfc_predict = rfc_model.predict(X_test)\n",
    "print (accuracy_score(Y_test,rfc_predict))\n",
    "print (confusion_matrix(Y_test,rfc_predict))\n",
    "print (classification_report(Y_test,rfc_predict))"
   ]
  },
  {
   "cell_type": "code",
   "execution_count": 28,
   "metadata": {},
   "outputs": [
    {
     "name": "stdout",
     "output_type": "stream",
     "text": [
      "0.8322147651006712\n",
      "[[ 20  23]\n",
      " [  2 104]]\n",
      "             precision    recall  f1-score   support\n",
      "\n",
      "          0       0.91      0.47      0.62        43\n",
      "          1       0.82      0.98      0.89       106\n",
      "\n",
      "avg / total       0.84      0.83      0.81       149\n",
      "\n"
     ]
    }
   ],
   "source": [
    "from sklearn.linear_model import LogisticRegression\n",
    "logreg_model = LogisticRegression()\n",
    "logreg_model.fit(X_train,Y_train)\n",
    "logreg_predict = logreg_model.predict(X_test)\n",
    "print (accuracy_score(Y_test,logreg_predict))\n",
    "print (confusion_matrix(Y_test,logreg_predict))\n",
    "print (classification_report(Y_test,logreg_predict))"
   ]
  },
  {
   "cell_type": "code",
   "execution_count": 29,
   "metadata": {},
   "outputs": [
    {
     "name": "stdout",
     "output_type": "stream",
     "text": [
      "0.8389261744966443\n",
      "[[ 20  23]\n",
      " [  1 105]]\n",
      "             precision    recall  f1-score   support\n",
      "\n",
      "          0       0.95      0.47      0.62        43\n",
      "          1       0.82      0.99      0.90       106\n",
      "\n",
      "avg / total       0.86      0.84      0.82       149\n",
      "\n"
     ]
    }
   ],
   "source": [
    "from sklearn.svm import SVC\n",
    "svc_model = SVC(kernel = \"linear\", C=2,gamma=1)\n",
    "svc_model.fit(X_train,Y_train)\n",
    "svc_predict = svc_model.predict(X_test)\n",
    "print (accuracy_score(Y_test,svc_predict))\n",
    "print (confusion_matrix(Y_test,svc_predict))\n",
    "print (classification_report(Y_test,svc_predict))"
   ]
  },
  {
   "cell_type": "code",
   "execution_count": 43,
   "metadata": {},
   "outputs": [
    {
     "name": "stdout",
     "output_type": "stream",
     "text": [
      "0.8389261744966443\n",
      "[[ 20  23]\n",
      " [  1 105]]\n",
      "             precision    recall  f1-score   support\n",
      "\n",
      "          0       0.95      0.47      0.62        43\n",
      "          1       0.82      0.99      0.90       106\n",
      "\n",
      "avg / total       0.86      0.84      0.82       149\n",
      "\n"
     ]
    }
   ],
   "source": [
    "from sklearn.ensemble import BaggingClassifier\n",
    "bc_model = BaggingClassifier(logreg_model,max_features=0.9,max_samples=0.5,n_estimators=30)\n",
    "bc_model.fit(X_train,Y_train)\n",
    "bc_predict = bc_model.predict(X_test)\n",
    "print (accuracy_score(Y_test,bc_predict))\n",
    "print (confusion_matrix(Y_test,bc_predict))\n",
    "print (classification_report(Y_test,bc_predict))"
   ]
  },
  {
   "cell_type": "code",
   "execution_count": 44,
   "metadata": {},
   "outputs": [
    {
     "name": "stdout",
     "output_type": "stream",
     "text": [
      "0.8389261744966443\n",
      "[[ 20  23]\n",
      " [  1 105]]\n",
      "             precision    recall  f1-score   support\n",
      "\n",
      "          0       0.95      0.47      0.62        43\n",
      "          1       0.82      0.99      0.90       106\n",
      "\n",
      "avg / total       0.86      0.84      0.82       149\n",
      "\n"
     ]
    },
    {
     "name": "stderr",
     "output_type": "stream",
     "text": [
      "C:\\ProgramData\\Anaconda3\\lib\\site-packages\\sklearn\\preprocessing\\label.py:151: DeprecationWarning: The truth value of an empty array is ambiguous. Returning False, but in future this will result in an error. Use `array.size > 0` to check that an array is not empty.\n",
      "  if diff:\n"
     ]
    }
   ],
   "source": [
    "from sklearn.ensemble import VotingClassifier\n",
    "vc_model = VotingClassifier(estimators=[('rfr',rfc_model),('bc',bc_model),('svc',svc_model)],voting='hard')\n",
    "vc_model.fit(X_train,Y_train)\n",
    "vc_predict = vc_model.predict(X_test)\n",
    "print (accuracy_score(Y_test,vc_predict))\n",
    "print (confusion_matrix(Y_test,vc_predict))\n",
    "print (classification_report(Y_test,vc_predict))"
   ]
  },
  {
   "cell_type": "code",
   "execution_count": 45,
   "metadata": {},
   "outputs": [
    {
     "data": {
      "text/plain": [
       "0.9932885906040269"
      ]
     },
     "execution_count": 45,
     "metadata": {},
     "output_type": "execute_result"
    }
   ],
   "source": [
    "accuracy_score(rfc_predict,logreg_predict)"
   ]
  },
  {
   "cell_type": "code",
   "execution_count": 47,
   "metadata": {},
   "outputs": [
    {
     "name": "stderr",
     "output_type": "stream",
     "text": [
      "C:\\ProgramData\\Anaconda3\\lib\\site-packages\\sklearn\\preprocessing\\label.py:151: DeprecationWarning: The truth value of an empty array is ambiguous. Returning False, but in future this will result in an error. Use `array.size > 0` to check that an array is not empty.\n",
      "  if diff:\n"
     ]
    }
   ],
   "source": [
    "y_pred = vc_model.predict(df_test)"
   ]
  },
  {
   "cell_type": "code",
   "execution_count": 48,
   "metadata": {},
   "outputs": [
    {
     "data": {
      "text/plain": [
       "0.9809264305177112"
      ]
     },
     "execution_count": 48,
     "metadata": {},
     "output_type": "execute_result"
    }
   ],
   "source": [
    "accuracy_score(y_pred,rfc_y_pred)"
   ]
  },
  {
   "cell_type": "code",
   "execution_count": 49,
   "metadata": {},
   "outputs": [],
   "source": [
    "final = pd.read_csv(\"Sample_Submission.csv\")\n",
    "final['Loan_ID'] = df_test1['Loan_ID']\n",
    "final['Loan_Status'] = y_pred\n",
    "final['Loan_Status'][final['Loan_Status']==1]='Y'\n",
    "final['Loan_Status'][final['Loan_Status']==0]='N'"
   ]
  },
  {
   "cell_type": "code",
   "execution_count": 51,
   "metadata": {},
   "outputs": [],
   "source": [
    "final.to_csv('Submission.csv',index=False)"
   ]
  },
  {
   "cell_type": "code",
   "execution_count": 67,
   "metadata": {},
   "outputs": [
    {
     "data": {
      "text/plain": [
       "1.0"
      ]
     },
     "execution_count": 67,
     "metadata": {},
     "output_type": "execute_result"
    }
   ],
   "source": [
    "accuracy_score(svc_predict,bc_predict)"
   ]
  },
  {
   "cell_type": "code",
   "execution_count": 64,
   "metadata": {},
   "outputs": [
    {
     "data": {
      "text/plain": [
       "array([1, 1, 1, 1, 1, 1, 1, 1, 1, 1, 1, 1, 1, 1, 1, 1, 1, 1, 1, 1, 1, 1,\n",
       "       1, 1, 1, 1, 1, 1, 1, 1, 1, 1, 1, 1, 1, 1, 1, 1, 1, 1, 1, 1, 1, 1,\n",
       "       1, 1, 1, 1, 1, 1, 1, 1, 1, 1, 1, 1, 1, 1, 1, 1, 1, 1, 1, 1, 1, 1,\n",
       "       1, 1, 1, 1, 1, 1, 1, 1, 1, 1, 1, 1, 1, 1, 1, 1, 1, 1, 1, 1, 1, 1,\n",
       "       1, 1, 1, 1, 1, 1, 1, 1, 1, 1, 1, 1, 1, 1, 1, 1, 1, 1, 1, 1, 1, 1,\n",
       "       1, 1, 1, 1, 1, 1, 1, 1, 1, 1, 1, 1, 1, 1, 1, 1, 1, 1], dtype=int64)"
      ]
     },
     "execution_count": 64,
     "metadata": {},
     "output_type": "execute_result"
    }
   ],
   "source": [
    "bc_predict[(svc_predict==1)|(rfc_predict==1)|(bc_predict==1)]"
   ]
  },
  {
   "cell_type": "code",
   "execution_count": 55,
   "metadata": {},
   "outputs": [
    {
     "data": {
      "text/plain": [
       "array([1, 1, 1, 1, 1, 1, 1, 0, 1, 1, 1, 1, 1, 0, 1, 1, 1, 1, 1, 1, 1, 1,\n",
       "       1, 1, 1, 0, 1, 1, 1, 1, 1, 1, 1, 1, 1, 0, 1, 1, 1, 1, 1, 1, 1, 1,\n",
       "       1, 1, 1, 1, 1, 1, 1, 1, 1, 1, 1, 0, 1, 1, 0, 1, 1, 1, 1, 0, 1, 1,\n",
       "       0, 0, 1, 0, 1, 1, 1, 1, 1, 1, 1, 1, 1, 1, 0, 1, 0, 1, 0, 1, 1, 1,\n",
       "       1, 1, 1, 1, 1, 1, 0, 1, 1, 1, 1, 1, 1, 0, 1, 1, 1, 1, 0, 1, 1, 1,\n",
       "       1, 1, 1, 1, 1, 1, 1, 0, 0, 0, 1, 1, 1, 0, 0, 1, 0, 1, 1, 1, 1, 1,\n",
       "       1, 1, 1, 1, 1, 1, 1, 1, 0, 1, 0, 1, 1, 1, 1, 0, 1, 1, 1, 1, 1, 0,\n",
       "       1, 1, 1, 1, 1, 1, 1, 0, 1, 1, 1, 0, 0, 1, 0, 1, 1, 1, 1, 0, 0, 1,\n",
       "       1, 1, 1, 1, 1, 1, 1, 1, 1, 1, 1, 1, 1, 1, 1, 1, 0, 0, 1, 1, 0, 1,\n",
       "       0, 1, 1, 1, 1, 1, 1, 1, 1, 1, 1, 1, 1, 0, 1, 1, 1, 1, 1, 1, 1, 1,\n",
       "       1, 1, 1, 1, 0, 1, 1, 1, 1, 0, 1, 1, 1, 1, 1, 0, 0, 1, 1, 1, 1, 0,\n",
       "       1, 0, 1, 0, 1, 1, 1, 1, 0, 1, 1, 1, 1, 0, 1, 1, 1, 1, 1, 1, 1, 1,\n",
       "       1, 1, 0, 1, 0, 1, 1, 1, 1, 0, 0, 1, 1, 1, 0, 1, 1, 1, 1, 1, 1, 1,\n",
       "       1, 1, 1, 1, 1, 1, 1, 0, 1, 1, 1, 1, 1, 1, 1, 0, 1, 1, 1, 1, 1, 1,\n",
       "       1, 1, 1, 0, 1, 1, 1, 1, 1, 0, 1, 1, 1, 1, 1, 1, 1, 0, 1, 1, 1, 1,\n",
       "       1, 1, 1, 1, 1, 1, 1, 1, 1, 0, 1, 1, 1, 1, 1, 1, 0, 1, 1, 1, 1, 1,\n",
       "       1, 1, 0, 1, 1, 1, 1, 1, 1, 1, 1, 1, 1, 1, 1], dtype=int64)"
      ]
     },
     "execution_count": 55,
     "metadata": {},
     "output_type": "execute_result"
    }
   ],
   "source": [
    "y_pred"
   ]
  },
  {
   "cell_type": "code",
   "execution_count": null,
   "metadata": {},
   "outputs": [],
   "source": []
  }
 ],
 "metadata": {
  "kernelspec": {
   "display_name": "Python 3",
   "language": "python",
   "name": "python3"
  },
  "language_info": {
   "codemirror_mode": {
    "name": "ipython",
    "version": 3
   },
   "file_extension": ".py",
   "mimetype": "text/x-python",
   "name": "python",
   "nbconvert_exporter": "python",
   "pygments_lexer": "ipython3",
   "version": "3.6.4"
  }
 },
 "nbformat": 4,
 "nbformat_minor": 2
}
