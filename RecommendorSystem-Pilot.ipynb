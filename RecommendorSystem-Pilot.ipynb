{
  "cells": [
    {
      "metadata": {
        "trusted": true
      },
      "cell_type": "code",
      "source": "# importing libraries\nimport pandas as pd\nimport numpy as np\nfrom matplotlib import pyplot as plt\n\n# pass in column names for each CSV as the column name is not given in the file and read them using pandas.\n# You can check the column names from the readme file\n\n# reading users file:\nu_cols = ['user_id', 'age', 'sex', 'occupation', 'zip_code']\nusers = pd.read_csv('ml-100k/u.user', sep='|', names=u_cols,encoding='latin-1')",
      "execution_count": 1,
      "outputs": []
    },
    {
      "metadata": {
        "trusted": true
      },
      "cell_type": "code",
      "source": "users.head()",
      "execution_count": 2,
      "outputs": [
        {
          "output_type": "execute_result",
          "execution_count": 2,
          "data": {
            "text/html": "<div>\n<style scoped>\n    .dataframe tbody tr th:only-of-type {\n        vertical-align: middle;\n    }\n\n    .dataframe tbody tr th {\n        vertical-align: top;\n    }\n\n    .dataframe thead th {\n        text-align: right;\n    }\n</style>\n<table border=\"1\" class=\"dataframe\">\n  <thead>\n    <tr style=\"text-align: right;\">\n      <th></th>\n      <th>user_id</th>\n      <th>age</th>\n      <th>sex</th>\n      <th>occupation</th>\n      <th>zip_code</th>\n    </tr>\n  </thead>\n  <tbody>\n    <tr>\n      <th>0</th>\n      <td>1</td>\n      <td>24</td>\n      <td>M</td>\n      <td>technician</td>\n      <td>85711</td>\n    </tr>\n    <tr>\n      <th>1</th>\n      <td>2</td>\n      <td>53</td>\n      <td>F</td>\n      <td>other</td>\n      <td>94043</td>\n    </tr>\n    <tr>\n      <th>2</th>\n      <td>3</td>\n      <td>23</td>\n      <td>M</td>\n      <td>writer</td>\n      <td>32067</td>\n    </tr>\n    <tr>\n      <th>3</th>\n      <td>4</td>\n      <td>24</td>\n      <td>M</td>\n      <td>technician</td>\n      <td>43537</td>\n    </tr>\n    <tr>\n      <th>4</th>\n      <td>5</td>\n      <td>33</td>\n      <td>F</td>\n      <td>other</td>\n      <td>15213</td>\n    </tr>\n  </tbody>\n</table>\n</div>",
            "text/plain": "   user_id  age sex  occupation zip_code\n0        1   24   M  technician    85711\n1        2   53   F       other    94043\n2        3   23   M      writer    32067\n3        4   24   M  technician    43537\n4        5   33   F       other    15213"
          },
          "metadata": {}
        }
      ]
    },
    {
      "metadata": {
        "trusted": true
      },
      "cell_type": "code",
      "source": "users.shape",
      "execution_count": 3,
      "outputs": [
        {
          "output_type": "execute_result",
          "execution_count": 3,
          "data": {
            "text/plain": "(943, 5)"
          },
          "metadata": {}
        }
      ]
    },
    {
      "metadata": {
        "trusted": true
      },
      "cell_type": "code",
      "source": "print(f\"Number of unique users in the user details dataframe: {users['user_id'].nunique()}\")",
      "execution_count": 4,
      "outputs": [
        {
          "output_type": "stream",
          "text": "Number of unique users in the user details dataframe: 943\n",
          "name": "stdout"
        }
      ]
    },
    {
      "metadata": {
        "trusted": true
      },
      "cell_type": "code",
      "source": "print(f\"Users are from {users['zip_code'].nunique()} unique locations\")",
      "execution_count": 5,
      "outputs": [
        {
          "output_type": "stream",
          "text": "Users are from 795 unique locations\n",
          "name": "stdout"
        }
      ]
    },
    {
      "metadata": {
        "trusted": true
      },
      "cell_type": "code",
      "source": "users['age'].plot.hist()\nplt.title(\"Distribution of Customers age in the dataset\")\nplt.xlabel(\"Age\")\nplt.ylabel(\"User Count\")\nplt.show()",
      "execution_count": 6,
      "outputs": [
        {
          "output_type": "display_data",
          "data": {
            "image/png": "[encoded data removed]",
            "text/plain": "<Figure size 432x288 with 1 Axes>"
          },
          "metadata": {
            "needs_background": "light"
          }
        }
      ]
    },
    {
      "metadata": {
        "trusted": true
      },
      "cell_type": "code",
      "source": "users['occupation'].value_counts().plot.bar()\nplt.xlabel('occupation')\nplt.ylabel('Count')\nplt.show()",
      "execution_count": 7,
      "outputs": [
        {
          "output_type": "display_data",
          "data": {
            "image/png": "[encoded data removed]",
            "text/plain": "<Figure size 432x288 with 1 Axes>"
          },
          "metadata": {
            "needs_background": "light"
          }
        }
      ]
    },
    {
      "metadata": {
        "trusted": true
      },
      "cell_type": "code",
      "source": "# reading items file:\ni_cols = ['movie id', 'movie title' ,'release date','video release date', 'IMDb URL', 'unknown', 'Action', 'Adventure',\n'Animation', 'Children\\'s', 'Comedy', 'Crime', 'Documentary', 'Drama', 'Fantasy',\n'Film-Noir', 'Horror', 'Musical', 'Mystery', 'Romance', 'Sci-Fi', 'Thriller', 'War', 'Western']\nitems = pd.read_csv('ml-100k/u.item', sep='|', names=i_cols,\nencoding='latin-1')\nitems.head()",
      "execution_count": 8,
      "outputs": [
        {
          "output_type": "execute_result",
          "execution_count": 8,
          "data": {
            "text/html": "<div>\n<style scoped>\n    .dataframe tbody tr th:only-of-type {\n        vertical-align: middle;\n    }\n\n    .dataframe tbody tr th {\n        vertical-align: top;\n    }\n\n    .dataframe thead th {\n        text-align: right;\n    }\n</style>\n<table border=\"1\" class=\"dataframe\">\n  <thead>\n    <tr style=\"text-align: right;\">\n      <th></th>\n      <th>movie id</th>\n      <th>movie title</th>\n      <th>release date</th>\n      <th>video release date</th>\n      <th>IMDb URL</th>\n      <th>unknown</th>\n      <th>Action</th>\n      <th>Adventure</th>\n      <th>Animation</th>\n      <th>Children's</th>\n      <th>...</th>\n      <th>Fantasy</th>\n      <th>Film-Noir</th>\n      <th>Horror</th>\n      <th>Musical</th>\n      <th>Mystery</th>\n      <th>Romance</th>\n      <th>Sci-Fi</th>\n      <th>Thriller</th>\n      <th>War</th>\n      <th>Western</th>\n    </tr>\n  </thead>\n  <tbody>\n    <tr>\n      <th>0</th>\n      <td>1</td>\n      <td>Toy Story (1995)</td>\n      <td>01-Jan-1995</td>\n      <td>NaN</td>\n      <td>http://us.imdb.com/M/title-exact?Toy%20Story%2...</td>\n      <td>0</td>\n      <td>0</td>\n      <td>0</td>\n      <td>1</td>\n      <td>1</td>\n      <td>...</td>\n      <td>0</td>\n      <td>0</td>\n      <td>0</td>\n      <td>0</td>\n      <td>0</td>\n      <td>0</td>\n      <td>0</td>\n      <td>0</td>\n      <td>0</td>\n      <td>0</td>\n    </tr>\n    <tr>\n      <th>1</th>\n      <td>2</td>\n      <td>GoldenEye (1995)</td>\n      <td>01-Jan-1995</td>\n      <td>NaN</td>\n      <td>http://us.imdb.com/M/title-exact?GoldenEye%20(...</td>\n      <td>0</td>\n      <td>1</td>\n      <td>1</td>\n      <td>0</td>\n      <td>0</td>\n      <td>...</td>\n      <td>0</td>\n      <td>0</td>\n      <td>0</td>\n      <td>0</td>\n      <td>0</td>\n      <td>0</td>\n      <td>0</td>\n      <td>1</td>\n      <td>0</td>\n      <td>0</td>\n    </tr>\n    <tr>\n      <th>2</th>\n      <td>3</td>\n      <td>Four Rooms (1995)</td>\n      <td>01-Jan-1995</td>\n      <td>NaN</td>\n      <td>http://us.imdb.com/M/title-exact?Four%20Rooms%...</td>\n      <td>0</td>\n      <td>0</td>\n      <td>0</td>\n      <td>0</td>\n      <td>0</td>\n      <td>...</td>\n      <td>0</td>\n      <td>0</td>\n      <td>0</td>\n      <td>0</td>\n      <td>0</td>\n      <td>0</td>\n      <td>0</td>\n      <td>1</td>\n      <td>0</td>\n      <td>0</td>\n    </tr>\n    <tr>\n      <th>3</th>\n      <td>4</td>\n      <td>Get Shorty (1995)</td>\n      <td>01-Jan-1995</td>\n      <td>NaN</td>\n      <td>http://us.imdb.com/M/title-exact?Get%20Shorty%...</td>\n      <td>0</td>\n      <td>1</td>\n      <td>0</td>\n      <td>0</td>\n      <td>0</td>\n      <td>...</td>\n      <td>0</td>\n      <td>0</td>\n      <td>0</td>\n      <td>0</td>\n      <td>0</td>\n      <td>0</td>\n      <td>0</td>\n      <td>0</td>\n      <td>0</td>\n      <td>0</td>\n    </tr>\n    <tr>\n      <th>4</th>\n      <td>5</td>\n      <td>Copycat (1995)</td>\n      <td>01-Jan-1995</td>\n      <td>NaN</td>\n      <td>http://us.imdb.com/M/title-exact?Copycat%20(1995)</td>\n      <td>0</td>\n      <td>0</td>\n      <td>0</td>\n      <td>0</td>\n      <td>0</td>\n      <td>...</td>\n      <td>0</td>\n      <td>0</td>\n      <td>0</td>\n      <td>0</td>\n      <td>0</td>\n      <td>0</td>\n      <td>0</td>\n      <td>1</td>\n      <td>0</td>\n      <td>0</td>\n    </tr>\n  </tbody>\n</table>\n<p>5 rows × 24 columns</p>\n</div>",
            "text/plain": "   movie id        movie title release date  video release date  \\\n0         1   Toy Story (1995)  01-Jan-1995                 NaN   \n1         2   GoldenEye (1995)  01-Jan-1995                 NaN   \n2         3  Four Rooms (1995)  01-Jan-1995                 NaN   \n3         4  Get Shorty (1995)  01-Jan-1995                 NaN   \n4         5     Copycat (1995)  01-Jan-1995                 NaN   \n\n                                            IMDb URL  unknown  Action  \\\n0  http://us.imdb.com/M/title-exact?Toy%20Story%2...        0       0   \n1  http://us.imdb.com/M/title-exact?GoldenEye%20(...        0       1   \n2  http://us.imdb.com/M/title-exact?Four%20Rooms%...        0       0   \n3  http://us.imdb.com/M/title-exact?Get%20Shorty%...        0       1   \n4  http://us.imdb.com/M/title-exact?Copycat%20(1995)        0       0   \n\n   Adventure  Animation  Children's   ...     Fantasy  Film-Noir  Horror  \\\n0          0          1           1   ...           0          0       0   \n1          1          0           0   ...           0          0       0   \n2          0          0           0   ...           0          0       0   \n3          0          0           0   ...           0          0       0   \n4          0          0           0   ...           0          0       0   \n\n   Musical  Mystery  Romance  Sci-Fi  Thriller  War  Western  \n0        0        0        0       0         0    0        0  \n1        0        0        0       0         1    0        0  \n2        0        0        0       0         1    0        0  \n3        0        0        0       0         0    0        0  \n4        0        0        0       0         1    0        0  \n\n[5 rows x 24 columns]"
          },
          "metadata": {}
        }
      ]
    },
    {
      "metadata": {},
      "cell_type": "markdown",
      "source": "This dataset contains attributes of 1682 movies. There are 24 columns out of which last 19 columns specify the genre of a particular movie. These are binary columns, i.e., a value of 1 denotes that the movie belongs to that genre, and 0 otherwise."
    },
    {
      "metadata": {
        "trusted": true
      },
      "cell_type": "code",
      "source": "items.shape",
      "execution_count": 9,
      "outputs": [
        {
          "output_type": "execute_result",
          "execution_count": 9,
          "data": {
            "text/plain": "(1682, 24)"
          },
          "metadata": {}
        }
      ]
    },
    {
      "metadata": {
        "trusted": true
      },
      "cell_type": "code",
      "source": "print(f\"Number of Movies in the Movie Information dataframe: {items['movie id'].nunique()}\")",
      "execution_count": 10,
      "outputs": [
        {
          "output_type": "stream",
          "text": "Number of Movies in the Movie Information dataframe: 1682\n",
          "name": "stdout"
        }
      ]
    },
    {
      "metadata": {
        "trusted": true
      },
      "cell_type": "code",
      "source": "# reading ratings file:\nr_cols = ['user_id', 'movie_id', 'rating', 'unix_timestamp']\nratings = pd.read_csv('ml-100k/u.data', sep='\\t', names=r_cols,encoding='latin-1')\nratings.head()",
      "execution_count": 11,
      "outputs": [
        {
          "output_type": "execute_result",
          "execution_count": 11,
          "data": {
            "text/html": "<div>\n<style scoped>\n    .dataframe tbody tr th:only-of-type {\n        vertical-align: middle;\n    }\n\n    .dataframe tbody tr th {\n        vertical-align: top;\n    }\n\n    .dataframe thead th {\n        text-align: right;\n    }\n</style>\n<table border=\"1\" class=\"dataframe\">\n  <thead>\n    <tr style=\"text-align: right;\">\n      <th></th>\n      <th>user_id</th>\n      <th>movie_id</th>\n      <th>rating</th>\n      <th>unix_timestamp</th>\n    </tr>\n  </thead>\n  <tbody>\n    <tr>\n      <th>0</th>\n      <td>196</td>\n      <td>242</td>\n      <td>3</td>\n      <td>881250949</td>\n    </tr>\n    <tr>\n      <th>1</th>\n      <td>186</td>\n      <td>302</td>\n      <td>3</td>\n      <td>891717742</td>\n    </tr>\n    <tr>\n      <th>2</th>\n      <td>22</td>\n      <td>377</td>\n      <td>1</td>\n      <td>878887116</td>\n    </tr>\n    <tr>\n      <th>3</th>\n      <td>244</td>\n      <td>51</td>\n      <td>2</td>\n      <td>880606923</td>\n    </tr>\n    <tr>\n      <th>4</th>\n      <td>166</td>\n      <td>346</td>\n      <td>1</td>\n      <td>886397596</td>\n    </tr>\n  </tbody>\n</table>\n</div>",
            "text/plain": "   user_id  movie_id  rating  unix_timestamp\n0      196       242       3       881250949\n1      186       302       3       891717742\n2       22       377       1       878887116\n3      244        51       2       880606923\n4      166       346       1       886397596"
          },
          "metadata": {}
        }
      ]
    },
    {
      "metadata": {
        "trusted": true
      },
      "cell_type": "code",
      "source": "ratings.shape",
      "execution_count": 12,
      "outputs": [
        {
          "output_type": "execute_result",
          "execution_count": 12,
          "data": {
            "text/plain": "(100000, 4)"
          },
          "metadata": {}
        }
      ]
    },
    {
      "metadata": {
        "trusted": true
      },
      "cell_type": "code",
      "source": "n_users = ratings.user_id.nunique()\nn_items = ratings.movie_id.nunique()\nprint(f\"There are {n_users} unique users in the ratings dataframe\")\nprint(f\"There are {n_items} unique movies in the ratings dataframe\")",
      "execution_count": 13,
      "outputs": [
        {
          "output_type": "stream",
          "text": "There are 943 unique users in the ratings dataframe\nThere are 1682 unique movies in the ratings dataframe\n",
          "name": "stdout"
        }
      ]
    },
    {
      "metadata": {
        "trusted": true
      },
      "cell_type": "code",
      "source": "#Load train and test from ratings dataframe separately.\nr_cols = ['user_id', 'movie_id', 'rating', 'unix_timestamp']\nratings_train = pd.read_csv('ml-100k/ua.base', sep='\\t', names=r_cols, encoding='latin-1')\nratings_test = pd.read_csv('ml-100k/ua.test', sep='\\t', names=r_cols, encoding='latin-1')\nratings_train.shape, ratings_test.shape",
      "execution_count": 14,
      "outputs": [
        {
          "output_type": "execute_result",
          "execution_count": 14,
          "data": {
            "text/plain": "((90570, 4), (9430, 4))"
          },
          "metadata": {}
        }
      ]
    },
    {
      "metadata": {
        "trusted": true
      },
      "cell_type": "code",
      "source": "data_matrix = np.zeros((n_users, n_items))",
      "execution_count": 15,
      "outputs": []
    },
    {
      "metadata": {
        "trusted": true
      },
      "cell_type": "code",
      "source": "data_matrix.shape",
      "execution_count": 16,
      "outputs": [
        {
          "output_type": "execute_result",
          "execution_count": 16,
          "data": {
            "text/plain": "(943, 1682)"
          },
          "metadata": {}
        }
      ]
    },
    {
      "metadata": {
        "trusted": true
      },
      "cell_type": "code",
      "source": "for line in ratings.itertuples():\n    data_matrix[line[1]-1, line[2]-1] = line[3]",
      "execution_count": 17,
      "outputs": []
    },
    {
      "metadata": {
        "trusted": true
      },
      "cell_type": "code",
      "source": "from sklearn.metrics.pairwise import pairwise_distances",
      "execution_count": 18,
      "outputs": []
    },
    {
      "metadata": {
        "trusted": true
      },
      "cell_type": "code",
      "source": "user_similarity = pairwise_distances(data_matrix, metric='cosine')\nitem_similarity = pairwise_distances(data_matrix.T, metric='cosine')",
      "execution_count": 19,
      "outputs": []
    },
    {
      "metadata": {
        "trusted": true
      },
      "cell_type": "code",
      "source": "user_similarity.shape",
      "execution_count": 20,
      "outputs": [
        {
          "output_type": "execute_result",
          "execution_count": 20,
          "data": {
            "text/plain": "(943, 943)"
          },
          "metadata": {}
        }
      ]
    },
    {
      "metadata": {
        "trusted": true
      },
      "cell_type": "code",
      "source": "item_similarity.shape",
      "execution_count": 21,
      "outputs": [
        {
          "output_type": "execute_result",
          "execution_count": 21,
          "data": {
            "text/plain": "(1682, 1682)"
          },
          "metadata": {}
        }
      ]
    },
    {
      "metadata": {
        "trusted": true
      },
      "cell_type": "code",
      "source": "data_matrix.shape",
      "execution_count": 22,
      "outputs": [
        {
          "output_type": "execute_result",
          "execution_count": 22,
          "data": {
            "text/plain": "(943, 1682)"
          },
          "metadata": {}
        }
      ]
    },
    {
      "metadata": {
        "trusted": true
      },
      "cell_type": "code",
      "source": "'''Our goal is to find a prediction matrix which is in the shape of (user, item) either based on \nuser similarity(user - user collbrative filtering) or based on item similarity(item-tem collbrative filtering)'''\ndef predict(rating_matrix, similarity, prediction_type='user'):\n    #For a given item and user, take weighted average rating based on the users similarity.\n    #do thst for all items for single user\n    #do that for all users\n    if prediction_type == 'user':\n        mean_user_ratings = rating_matrix.mean(axis=1)\n        ratings_diff = rating_matrix - mean_user_ratings[:, np.newaxis]\n        pred = mean_user_ratings[:, np.newaxis] + similarity.dot(ratings_diff) / np.array([np.abs(similarity).sum(axis=1)]).T        \n    #For a given item and user, assuming a user clicks an item, take weighted average rating for based on that items similarity\n    #with other items\n    #do that \n    elif prediction_type == 'item':\n        pred = rating_matrix.dot(similarity) / np.array([np.abs(similarity).sum(axis=1)])\n    print (pred.shape)\n    return pred",
      "execution_count": 23,
      "outputs": []
    },
    {
      "metadata": {
        "trusted": true
      },
      "cell_type": "code",
      "source": "item_prediction = predict(data_matrix, item_similarity, prediction_type='item')\nuser_prediction = predict(data_matrix, user_similarity, prediction_type='user')",
      "execution_count": 24,
      "outputs": [
        {
          "output_type": "stream",
          "text": "(943, 1682)\n(943, 1682)\n",
          "name": "stdout"
        }
      ]
    },
    {
      "metadata": {
        "trusted": true
      },
      "cell_type": "code",
      "source": "!pip install turicreate",
      "execution_count": null,
      "outputs": [
        {
          "output_type": "stream",
          "text": "Collecting turicreate\n\u001b[?25l  Downloading https://files.pythonhosted.org/packages/48/21/ab91268cac757636b6b906913121e99824d63c47a037fbadd33dcb460efc/turicreate-6.0-cp36-cp36m-manylinux1_x86_64.whl (91.2MB)\n\u001b[K     |████████████████████████████████| 91.2MB 2.4kB/s eta 0:00:01                | 3.9MB 2.6MB/s eta 0:00:34             | 5.1MB 2.6MB/s eta 0:00:34     |███████▊                        | 22.0MB 1.7MB/s eta 0:00:41     |███████▉                        | 22.4MB 1.7MB/s eta 0:00:41     |█████████                       | 25.5MB 2.5MB/s eta 0:00:26     |██████████████▋                 | 41.8MB 223kB/s eta 0:03:42     |███████████████                 | 42.8MB 657kB/s eta 0:01:14     |██████████████████████████████  | 85.5MB 245kB/s eta 0:00:24     |██████████████████████████████▊ | 87.5MB 625kB/s eta 0:00:06     |████████████████████████████████| 91.2MB 9.7MB/s eta 0:00:01\n\u001b[?25hRequirement already satisfied: pillow>=5.2.0 in /home/nbuser/anaconda3_501/lib/python3.6/site-packages (from turicreate) (5.3.0)\nRequirement already satisfied: requests>=2.9.1 in /home/nbuser/anaconda3_501/lib/python3.6/site-packages (from turicreate) (2.22.0)\nRequirement already satisfied: decorator>=4.0.9 in /home/nbuser/anaconda3_501/lib/python3.6/site-packages (from turicreate) (4.3.0)\nCollecting numpy==1.16.4\n\u001b[?25l  Downloading https://files.pythonhosted.org/packages/87/2d/e4656149cbadd3a8a0369fcd1a9c7d61cc7b87b3903b85389c70c989a696/numpy-1.16.4-cp36-cp36m-manylinux1_x86_64.whl (17.3MB)\n\u001b[K     |████████████████████████████████| 17.3MB 27kB/s  eta 0:00:01     |████████████████████▎           | 11.0MB 3.3MB/s eta 0:00:02     |██████████████████████████▎     | 14.2MB 6.5MB/s eta 0:00:01\n\u001b[?25hRequirement already satisfied: scipy>=1.1.0 in /home/nbuser/anaconda3_501/lib/python3.6/site-packages (from turicreate) (1.1.0)\nCollecting coremltools==3.1\n\u001b[?25l  Downloading https://files.pythonhosted.org/packages/af/f8/ac6940600864b08476fee09583b7c66e2fcfe70ccafeb696710103c4a31b/coremltools-3.1-cp36-none-manylinux1_x86_64.whl (3.4MB)\n\u001b[K     |████████████████████████████████| 3.4MB 83kB/s  eta 0:00:01\n\u001b[?25hRequirement already satisfied: pandas>=0.23.2 in /home/nbuser/anaconda3_501/lib/python3.6/site-packages (from turicreate) (0.23.4)\nRequirement already satisfied: prettytable==0.7.2 in /home/nbuser/anaconda3_501/lib/python3.6/site-packages (from turicreate) (0.7.2)\nCollecting resampy==0.2.1\n\u001b[?25l  Downloading https://files.pythonhosted.org/packages/14/b6/66a06d85474190b50aee1a6c09cdc95bb405ac47338b27e9b21409da1760/resampy-0.2.1.tar.gz (322kB)\n\u001b[K     |████████████████████████████████| 327kB 5.5MB/s eta 0:00:01\n\u001b[?25hRequirement already satisfied: six>=1.10.0 in /home/nbuser/anaconda3_501/lib/python3.6/site-packages (from turicreate) (1.11.0)\nCollecting tensorflow>=2.0.0\n\u001b[?25l  Downloading https://files.pythonhosted.org/packages/85/d4/c0cd1057b331bc38b65478302114194bd8e1b9c2bbc06e300935c0e93d90/tensorflow-2.1.0-cp36-cp36m-manylinux2010_x86_64.whl (421.8MB)\n\u001b[K     |██████████▋                     | 139.8MB 4.5MB/s eta 0:01:03    |█▎                              | 17.6MB 2.4MB/s eta 0:02:48     |█▌                              | 20.4MB 28kB/s eta 3:52:50     |██                              | 27.7MB 1.6MB/s eta 0:04:06     |██▌                             | 33.3MB 3.1MB/s eta 0:02:05     |███                             | 38.1MB 345kB/s eta 0:18:32     |███                             | 38.2MB 345kB/s eta 0:18:32     |███                             | 38.7MB 765kB/s eta 0:08:21     |███▉                            | 51.3MB 1.5MB/s eta 0:04:15     |████▌                           | 58.8MB 1.9MB/s eta 0:03:16     |████▊                           | 62.3MB 3.5MB/s eta 0:01:43     |████▉                           | 63.1MB 778kB/s eta 0:07:41     |█████                           | 66.0MB 3.3MB/s eta 0:01:50     |█████                           | 66.8MB 3.0MB/s eta 0:02:01     |█████▋                          | 73.2MB 132kB/s eta 0:43:55     |█████▊                          | 75.5MB 2.2MB/s eta 0:02:36     |████████                        | 104.6MB 206kB/s eta 0:25:35     |█████████                       | 117.7MB 2.1MB/s eta 0:02:27     |█████████▏                      | 120.4MB 219kB/s eta 0:22:54     |█████████▌                      | 125.4MB 2.4MB/s eta 0:02:03     |█████████▋                      | 127.4MB 1.9MB/s eta 0:02:37",
          "name": "stdout"
        }
      ]
    },
    {
      "metadata": {
        "trusted": true
      },
      "cell_type": "code",
      "source": "import turicreate as tc",
      "execution_count": 28,
      "outputs": []
    },
    {
      "metadata": {
        "trusted": true
      },
      "cell_type": "code",
      "source": "train_data = tc.SFrame(ratings_train)\ntest_data = tc.SFrame(ratings_test)",
      "execution_count": 30,
      "outputs": []
    },
    {
      "metadata": {
        "trusted": true
      },
      "cell_type": "code",
      "source": "train_data.print_rows(num_rows=15, num_columns=4) ",
      "execution_count": 36,
      "outputs": [
        {
          "output_type": "stream",
          "text": "+---------+----------+--------+----------------+\n| user_id | movie_id | rating | unix_timestamp |\n+---------+----------+--------+----------------+\n|    1    |    1     |   5    |   874965758    |\n|    1    |    2     |   3    |   876893171    |\n|    1    |    3     |   4    |   878542960    |\n|    1    |    4     |   3    |   876893119    |\n|    1    |    5     |   3    |   889751712    |\n|    1    |    6     |   5    |   887431973    |\n|    1    |    7     |   4    |   875071561    |\n|    1    |    8     |   1    |   875072484    |\n|    1    |    9     |   5    |   878543541    |\n|    1    |    10    |   3    |   875693118    |\n|    1    |    11    |   2    |   875072262    |\n|    1    |    12    |   5    |   878542960    |\n|    1    |    13    |   5    |   875071805    |\n|    1    |    14    |   5    |   874965706    |\n|    1    |    15    |   5    |   875071608    |\n+---------+----------+--------+----------------+\n[90570 rows x 4 columns]\n\n",
          "name": "stdout"
        }
      ]
    },
    {
      "metadata": {
        "trusted": true
      },
      "cell_type": "code",
      "source": "popularity_model = tc.popularity_recommender.create(train_data, user_id = 'user_id', item_id = 'movie_id', target='rating')",
      "execution_count": 32,
      "outputs": [
        {
          "output_type": "display_data",
          "data": {
            "text/html": "<pre>Warning: Ignoring columns unix_timestamp;</pre>",
            "text/plain": "Warning: Ignoring columns unix_timestamp;"
          },
          "metadata": {}
        },
        {
          "output_type": "display_data",
          "data": {
            "text/html": "<pre>    To use these columns in scoring predictions, use a model that allows the use of additional features.</pre>",
            "text/plain": "    To use these columns in scoring predictions, use a model that allows the use of additional features."
          },
          "metadata": {}
        },
        {
          "output_type": "display_data",
          "data": {
            "text/html": "<pre>Preparing data set.</pre>",
            "text/plain": "Preparing data set."
          },
          "metadata": {}
        },
        {
          "output_type": "display_data",
          "data": {
            "text/html": "<pre>    Data has 90570 observations with 943 users and 1680 items.</pre>",
            "text/plain": "    Data has 90570 observations with 943 users and 1680 items."
          },
          "metadata": {}
        },
        {
          "output_type": "display_data",
          "data": {
            "text/html": "<pre>    Data prepared in: 0.399911s</pre>",
            "text/plain": "    Data prepared in: 0.399911s"
          },
          "metadata": {}
        },
        {
          "output_type": "display_data",
          "data": {
            "text/html": "<pre>90570 observations to process; with 1680 unique items.</pre>",
            "text/plain": "90570 observations to process; with 1680 unique items."
          },
          "metadata": {}
        }
      ]
    },
    {
      "metadata": {
        "trusted": true
      },
      "cell_type": "code",
      "source": "popularity_recommed = popularity_model.recommend(users=[1,2,3,4,5], k=5)",
      "execution_count": 34,
      "outputs": []
    },
    {
      "metadata": {
        "trusted": true
      },
      "cell_type": "code",
      "source": "popularity_recommed.print_rows(num_rows=25)",
      "execution_count": 35,
      "outputs": [
        {
          "output_type": "stream",
          "text": "+---------+----------+-------+------+\n| user_id | movie_id | score | rank |\n+---------+----------+-------+------+\n|    1    |   1599   |  5.0  |  1   |\n|    1    |   1201   |  5.0  |  2   |\n|    1    |   1189   |  5.0  |  3   |\n|    1    |   1122   |  5.0  |  4   |\n|    1    |   814    |  5.0  |  5   |\n|    2    |   1599   |  5.0  |  1   |\n|    2    |   1201   |  5.0  |  2   |\n|    2    |   1189   |  5.0  |  3   |\n|    2    |   1122   |  5.0  |  4   |\n|    2    |   814    |  5.0  |  5   |\n|    3    |   1599   |  5.0  |  1   |\n|    3    |   1201   |  5.0  |  2   |\n|    3    |   1189   |  5.0  |  3   |\n|    3    |   1122   |  5.0  |  4   |\n|    3    |   814    |  5.0  |  5   |\n|    4    |   1599   |  5.0  |  1   |\n|    4    |   1201   |  5.0  |  2   |\n|    4    |   1189   |  5.0  |  3   |\n|    4    |   1122   |  5.0  |  4   |\n|    4    |   814    |  5.0  |  5   |\n|    5    |   1599   |  5.0  |  1   |\n|    5    |   1201   |  5.0  |  2   |\n|    5    |   1189   |  5.0  |  3   |\n|    5    |   1122   |  5.0  |  4   |\n|    5    |   814    |  5.0  |  5   |\n+---------+----------+-------+------+\n[25 rows x 4 columns]\n\n",
          "name": "stdout"
        }
      ]
    },
    {
      "metadata": {
        "trusted": true
      },
      "cell_type": "code",
      "source": "#Item-Item Collbrative filtering Model\nitem_item_cfm = tc.item_similarity_recommender.create(train_data, user_id = 'user_id', item_id = 'movie_id', target='rating')",
      "execution_count": 38,
      "outputs": [
        {
          "output_type": "display_data",
          "data": {
            "text/html": "<pre>Warning: Ignoring columns unix_timestamp;</pre>",
            "text/plain": "Warning: Ignoring columns unix_timestamp;"
          },
          "metadata": {}
        },
        {
          "output_type": "display_data",
          "data": {
            "text/html": "<pre>    To use these columns in scoring predictions, use a model that allows the use of additional features.</pre>",
            "text/plain": "    To use these columns in scoring predictions, use a model that allows the use of additional features."
          },
          "metadata": {}
        },
        {
          "output_type": "display_data",
          "data": {
            "text/html": "<pre>Preparing data set.</pre>",
            "text/plain": "Preparing data set."
          },
          "metadata": {}
        },
        {
          "output_type": "display_data",
          "data": {
            "text/html": "<pre>    Data has 90570 observations with 943 users and 1680 items.</pre>",
            "text/plain": "    Data has 90570 observations with 943 users and 1680 items."
          },
          "metadata": {}
        },
        {
          "output_type": "display_data",
          "data": {
            "text/html": "<pre>    Data prepared in: 0.31779s</pre>",
            "text/plain": "    Data prepared in: 0.31779s"
          },
          "metadata": {}
        },
        {
          "output_type": "display_data",
          "data": {
            "text/html": "<pre>Training model from provided data.</pre>",
            "text/plain": "Training model from provided data."
          },
          "metadata": {}
        },
        {
          "output_type": "display_data",
          "data": {
            "text/html": "<pre>Gathering per-item and per-user statistics.</pre>",
            "text/plain": "Gathering per-item and per-user statistics."
          },
          "metadata": {}
        },
        {
          "output_type": "display_data",
          "data": {
            "text/html": "<pre>+--------------------------------+------------+</pre>",
            "text/plain": "+--------------------------------+------------+"
          },
          "metadata": {}
        },
        {
          "output_type": "display_data",
          "data": {
            "text/html": "<pre>| Elapsed Time (Item Statistics) | % Complete |</pre>",
            "text/plain": "| Elapsed Time (Item Statistics) | % Complete |"
          },
          "metadata": {}
        },
        {
          "output_type": "display_data",
          "data": {
            "text/html": "<pre>+--------------------------------+------------+</pre>",
            "text/plain": "+--------------------------------+------------+"
          },
          "metadata": {}
        },
        {
          "output_type": "display_data",
          "data": {
            "text/html": "<pre>| 32.305ms                       | 100        |</pre>",
            "text/plain": "| 32.305ms                       | 100        |"
          },
          "metadata": {}
        },
        {
          "output_type": "display_data",
          "data": {
            "text/html": "<pre>+--------------------------------+------------+</pre>",
            "text/plain": "+--------------------------------+------------+"
          },
          "metadata": {}
        },
        {
          "output_type": "display_data",
          "data": {
            "text/html": "<pre>Setting up lookup tables.</pre>",
            "text/plain": "Setting up lookup tables."
          },
          "metadata": {}
        },
        {
          "output_type": "display_data",
          "data": {
            "text/html": "<pre>Processing data in one pass using dense lookup tables.</pre>",
            "text/plain": "Processing data in one pass using dense lookup tables."
          },
          "metadata": {}
        },
        {
          "output_type": "display_data",
          "data": {
            "text/html": "<pre>+-------------------------------------+------------------+-----------------+</pre>",
            "text/plain": "+-------------------------------------+------------------+-----------------+"
          },
          "metadata": {}
        },
        {
          "output_type": "display_data",
          "data": {
            "text/html": "<pre>| Elapsed Time (Constructing Lookups) | Total % Complete | Items Processed |</pre>",
            "text/plain": "| Elapsed Time (Constructing Lookups) | Total % Complete | Items Processed |"
          },
          "metadata": {}
        },
        {
          "output_type": "display_data",
          "data": {
            "text/html": "<pre>+-------------------------------------+------------------+-----------------+</pre>",
            "text/plain": "+-------------------------------------+------------------+-----------------+"
          },
          "metadata": {}
        },
        {
          "output_type": "display_data",
          "data": {
            "text/html": "<pre>| 57.454ms                            | 0.25             | 6               |</pre>",
            "text/plain": "| 57.454ms                            | 0.25             | 6               |"
          },
          "metadata": {}
        },
        {
          "output_type": "display_data",
          "data": {
            "text/html": "<pre>| 648.136ms                           | 100              | 1680            |</pre>",
            "text/plain": "| 648.136ms                           | 100              | 1680            |"
          },
          "metadata": {}
        },
        {
          "output_type": "display_data",
          "data": {
            "text/html": "<pre>+-------------------------------------+------------------+-----------------+</pre>",
            "text/plain": "+-------------------------------------+------------------+-----------------+"
          },
          "metadata": {}
        },
        {
          "output_type": "display_data",
          "data": {
            "text/html": "<pre>Finalizing lookup tables.</pre>",
            "text/plain": "Finalizing lookup tables."
          },
          "metadata": {}
        },
        {
          "output_type": "display_data",
          "data": {
            "text/html": "<pre>Generating candidate set for working with new users.</pre>",
            "text/plain": "Generating candidate set for working with new users."
          },
          "metadata": {}
        },
        {
          "output_type": "display_data",
          "data": {
            "text/html": "<pre>Finished training in 1.72083s</pre>",
            "text/plain": "Finished training in 1.72083s"
          },
          "metadata": {}
        }
      ]
    },
    {
      "metadata": {
        "trusted": true
      },
      "cell_type": "code",
      "source": "item_cfm_recommendations = item_item_cfm.recommend(users=[1,2,3,4,5], k=6)",
      "execution_count": 39,
      "outputs": []
    },
    {
      "metadata": {
        "trusted": true
      },
      "cell_type": "code",
      "source": "item_cfm_recommendations.print_rows(num_rows = 30)",
      "execution_count": 40,
      "outputs": [
        {
          "output_type": "stream",
          "text": "+---------+----------+---------------------+------+\n| user_id | movie_id |        score        | rank |\n+---------+----------+---------------------+------+\n|    1    |   423    |  0.1645989797952521 |  1   |\n|    1    |   568    |  0.1551880854686708 |  2   |\n|    1    |   202    | 0.15202070260775907 |  3   |\n|    1    |   403    | 0.14992555953164138 |  4   |\n|    1    |   385    | 0.14952385562066814 |  5   |\n|    1    |   655    | 0.13876477748383093 |  6   |\n|    2    |    7     |  0.1617042330595163 |  1   |\n|    2    |   121    |  0.1599736248071377 |  2   |\n|    2    |    50    | 0.15925778792454645 |  3   |\n|    2    |   181    | 0.15784773574425623 |  4   |\n|    2    |   117    | 0.15463673839202294 |  5   |\n|    2    |   405    | 0.14554836887579697 |  6   |\n|    3    |   328    | 0.12468654459173029 |  1   |\n|    3    |   313    |  0.1013359698382291 |  2   |\n|    3    |   332    | 0.10127936574545773 |  3   |\n|    3    |    12    | 0.10076934911987999 |  4   |\n|    3    |   245    | 0.09754122251814062 |  5   |\n|    3    |   301    |  0.0965950692241842 |  6   |\n|    4    |   121    |  0.1560882500239781 |  1   |\n|    4    |    56    |  0.1519445776939392 |  2   |\n|    4    |    50    |  0.1492838306086404 |  3   |\n|    4    |   181    |  0.1490831502846309 |  4   |\n|    4    |   333    |  0.1413889995643071 |  5   |\n|    4    |    7     |  0.1403191430228097 |  6   |\n|    5    |   195    | 0.17048023108280067 |  1   |\n|    5    |   202    | 0.16570166927395444 |  2   |\n|    5    |   161    | 0.16489277319474654 |  3   |\n|    5    |   568    | 0.16166587381651906 |  4   |\n|    5    |    82    |  0.1602290670077006 |  5   |\n|    5    |    28    |  0.1418876998352282 |  6   |\n+---------+----------+---------------------+------+\n[30 rows x 4 columns]\n\n",
          "name": "stdout"
        }
      ]
    },
    {
      "metadata": {
        "trusted": true
      },
      "cell_type": "code",
      "source": "data_matrix.shape",
      "execution_count": 57,
      "outputs": [
        {
          "output_type": "execute_result",
          "execution_count": 57,
          "data": {
            "text/plain": "(943, 1682)"
          },
          "metadata": {}
        }
      ]
    },
    {
      "metadata": {
        "trusted": true
      },
      "cell_type": "code",
      "source": "np.mean(self.R[np.where(self.R != 0)])\n\n",
      "execution_count": 58,
      "outputs": [
        {
          "output_type": "execute_result",
          "execution_count": 58,
          "data": {
            "text/plain": "3.52986"
          },
          "metadata": {}
        }
      ]
    },
    {
      "metadata": {
        "trusted": true
      },
      "cell_type": "code",
      "source": "len(data_matrix.nonzero()[1])",
      "execution_count": 73,
      "outputs": [
        {
          "output_type": "execute_result",
          "execution_count": 73,
          "data": {
            "text/plain": "100000"
          },
          "metadata": {}
        }
      ]
    },
    {
      "metadata": {
        "trusted": true
      },
      "cell_type": "code",
      "source": "class MatrixFactorization:\n    def __init__(self, rating_matrix, latent_features_count, alpha, beta, iterations):\n        # Initializing the user-movie rating matrix, no. of latent features, alpha and beta.\n        self.R = rating_matrix\n        self.num_users, self.num_items = rating_matrix.shape\n        self.K = latent_features_count\n        self.alpha = alpha\n        self.beta = beta\n        self.iterations = iterations\n    #Initializing user-feature and movie-feature matrix\n    def train(self):\n        self.U = np.random.normal(scale=1./self.K, size=(self.num_users, self.K))\n        self.I = np.random.normal(scale=1./self.K, size=(self.num_items, self.K))\n        \n        #Initailizing a bias term\n        self.b_u = np.zeros(self.num_users)\n        self.b_i = np.zeros(self.num_items)\n        self.b = np.mean(self.R[np.where(self.R != 0)])\n        \n        #list of training samples\n        self.samples = [(i, j, self.R[i][j]) for i in range(self.num_users) for j in range(self.num_items) if self.R[i][j]>0]\n        \n        training_process = []\n        for i in range(self.iterations):\n            np.random.shuffle(self.samples)\n            \n            #forward and backward propogation\n            self.sgd()\n            \n            #calculate mean sqaured error\n            mse = self.mse()\n            \n            training_process.append((i, mse))\n            \n            if (i + 1 ) % 20 == 0:\n                print(f\"iteration: {i+1}, error: {mse}\")\n                \n        return training_process\n        \n    def get_rating(self, i , j):\n        #Predicted rating for User i and Movie J\n        predicted_individual_rating = self.b + self.b_u[i] + self.b_i[j] + self.U[i, :].dot(self.I[j, :].T)\n        return predicted_individual_rating\n        \n    def sgd(self):\n        #Stohastic Gradient descent to get optimized P and Q matrix\n        for i, j, r in self.samples:\n            predicted_individual_rating = self.get_rating(i, j)\n            e = r - predicted_individual_rating\n            \n            self.b_u[i] = self.alpha * (e - self.beta * self.b_u[i])\n            self.b_i[j] = self.alpha * (e - self.beta * self.b_i[j])\n            \n            #Updating user affinity matrix\n            self.U[i, :] = self.alpha * (e * self.U[i, :] - self.beta * self.U[i, :])\n            self.I[j, :] = self.alpha * (e * self.I[j, :] - self.beta * self.I[j, :])\n    \n    def full_matrix(self):\n        return self.U.dot(self.I.T) + self.b_u[:, np.newaxis] + self.b_i[np.newaxis, :] + self.b\n        \n            \n    def mse(self):\n        #calculating mean squared error\n        \n        #Returns non zero index positions\n        xs, ys = self.R.nonzero()\n        predicted = self.full_matrix()\n        \n        error = 0\n        \n        for x, y in zip(xs, ys):\n            error = pow(self.R[x, y] - predicted[x, y], 2)\n        error = error / len(xs)\n        return np.sqrt(error)\n",
      "execution_count": 89,
      "outputs": []
    },
    {
      "metadata": {
        "trusted": true
      },
      "cell_type": "code",
      "source": "rating_matrix = np.array(ratings.pivot(index = 'user_id', columns ='movie_id', values = 'rating').fillna(0))",
      "execution_count": 75,
      "outputs": []
    },
    {
      "metadata": {
        "trusted": true
      },
      "cell_type": "code",
      "source": "rating_matrix.shape",
      "execution_count": 76,
      "outputs": [
        {
          "output_type": "execute_result",
          "execution_count": 76,
          "data": {
            "text/plain": "(943, 1682)"
          },
          "metadata": {}
        }
      ]
    },
    {
      "metadata": {
        "trusted": true
      },
      "cell_type": "code",
      "source": "mf = MatrixFactorization(rating_matrix=rating_matrix, latent_features_count=20, alpha=0.01, beta=0.001, iterations=100 )",
      "execution_count": 90,
      "outputs": []
    },
    {
      "metadata": {
        "trusted": true
      },
      "cell_type": "code",
      "source": "mf.train()",
      "execution_count": null,
      "outputs": []
    },
    {
      "metadata": {
        "trusted": true
      },
      "cell_type": "code",
      "source": "",
      "execution_count": null,
      "outputs": []
    }
  ],
  "metadata": {
    "kernelspec": {
      "name": "python36",
      "display_name": "Python 3.6",
      "language": "python"
    },
    "language_info": {
      "mimetype": "text/x-python",
      "nbconvert_exporter": "python",
      "name": "python",
      "pygments_lexer": "ipython3",
      "version": "3.6.6",
      "file_extension": ".py",
      "codemirror_mode": {
        "version": 3,
        "name": "ipython"
      }
    }
  },
  "nbformat": 4,
  "nbformat_minor": 2
}